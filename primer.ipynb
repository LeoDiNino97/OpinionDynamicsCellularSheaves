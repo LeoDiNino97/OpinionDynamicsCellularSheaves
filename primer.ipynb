{
 "cells": [
  {
   "cell_type": "markdown",
   "metadata": {},
   "source": [
    "# Opinion dynamics over discourse sheaves"
   ]
  },
  {
   "cell_type": "code",
   "execution_count": 24,
   "metadata": {},
   "outputs": [],
   "source": [
    "import numpy as np\n",
    "import networkx as nx\n",
    "import matplotlib.pyplot as plt\n",
    "from scipy.integrate import solve_ivp"
   ]
  },
  {
   "cell_type": "markdown",
   "metadata": {},
   "source": [
    "## Constant sheaves with stalk equal to $\\mathbb{R}$ on each vertex and node"
   ]
  },
  {
   "cell_type": "markdown",
   "metadata": {},
   "source": [
    "### Expression diffusion for \"learning to lie\" dynamics"
   ]
  },
  {
   "cell_type": "code",
   "execution_count": 25,
   "metadata": {},
   "outputs": [],
   "source": [
    "# Let's generate a toy topology for our example\n",
    "\n",
    "nodes = [i for i in range(7)]\n",
    "edges = [\n",
    "    (0,1),\n",
    "    (0,3),\n",
    "    (0,6),\n",
    "    (1,2),\n",
    "    (1,5),\n",
    "    (2,4),\n",
    "    (4,6),\n",
    "    (5,6)\n",
    "]\n",
    "\n",
    "V = 7\n",
    "E = len(edges)\n",
    "\n",
    "d = 1                                           # Node and edges stalks dimension\n",
    "\n",
    "F = {\n",
    "    e:{\n",
    "        e[0]:np.random.randn(d,d),\n",
    "        e[1]:np.random.randn(d,d)\n",
    "        } \n",
    "        for e in edges\n",
    "    }                                           # Incidency linear maps\n",
    "\n",
    "# Sheaf representation \n",
    "\n",
    "# Coboundary map\n",
    "\n",
    "B = np.zeros((d*E, d*V))\n",
    "\n",
    "for i in range(len(edges)):\n",
    "    edge = edges[i]\n",
    "\n",
    "    u = edge[0] \n",
    "    v = edge[1] \n",
    "\n",
    "    B_u = F[edge][u]\n",
    "    B_v = F[edge][v]\n",
    "\n",
    "    B[i*d:(i+1)*d, u*d:(u+1)*d] = 1\n",
    "    B[i*d:(i+1)*d, v*d:(v+1)*d] = - 1\n",
    "\n",
    "# Sheaf Laplacian\n",
    "\n",
    "L_f = B.T @ B"
   ]
  },
  {
   "cell_type": "code",
   "execution_count": 55,
   "metadata": {},
   "outputs": [],
   "source": [
    "def expressionDynamic(\n",
    "        t, \n",
    "        B_flatten, \n",
    "        P,\n",
    "        E,\n",
    "        V, \n",
    "        d, \n",
    "        beta, \n",
    "        x0\n",
    "        ):\n",
    "    \n",
    "    B = B_flatten.reshape(E*d,V*d)\n",
    "    dt_dB = (- beta * P * (B @ np.outer(x0, x0)))\n",
    "    return dt_dB.flatten()\n",
    "\n",
    "def expressionDynamicSolver(\n",
    "        B0, \n",
    "        x0, \n",
    "        E,\n",
    "        V,\n",
    "        d,\n",
    "        beta = 1,\n",
    "        T = 100,\n",
    "        time_span = 100\n",
    "        ):\n",
    "\n",
    "    time_points = np.linspace(0, T, time_span)\n",
    "    P = (B0 != 0).astype('int32')\n",
    "\n",
    "    solution = solve_ivp(\n",
    "        expressionDynamic, \n",
    "        [0, 100], \n",
    "        B0.flatten(), \n",
    "        t_eval=time_points, \n",
    "        args=(P, E, V, d, beta, x0,),\n",
    "        method='RK45'\n",
    "        )\n",
    "    \n",
    "    B_hat = solution.y[:,-1].reshape(E*d, V*d)\n",
    "    \n",
    "    # Tracker of the disagreement \n",
    "    Bs = solution.y.T.reshape(time_points.shape[0], E*d, V*d)\n",
    "    print(Bs.shape)\n",
    "    disagreement = x0.T @ (Bs.transpose(0,2,1) @ Bs.transpose(0,1,2)) @ x0\n",
    "\n",
    "    return B_hat, disagreement"
   ]
  },
  {
   "cell_type": "code",
   "execution_count": 56,
   "metadata": {},
   "outputs": [
    {
     "name": "stdout",
     "output_type": "stream",
     "text": [
      "(100, 8, 7)\n"
     ]
    }
   ],
   "source": [
    "B0 = np.copy(B)\n",
    "x0 = np.random.randn(V)\n",
    "\n",
    "B_hat, disagreement = expressionDynamicSolver(B0, x0, E, V, d)"
   ]
  },
  {
   "cell_type": "code",
   "execution_count": 57,
   "metadata": {},
   "outputs": [
    {
     "data": {
      "text/plain": [
       "array([[ 1.00693009, -0.0070275 ,  0.        ,  0.        ,  0.        ,\n",
       "         0.        ,  0.        ],\n",
       "       [ 1.01636409,  0.        ,  0.        , -0.01714212,  0.        ,\n",
       "         0.        ,  0.        ],\n",
       "       [ 0.99369496,  0.        ,  0.        ,  0.        ,  0.        ,\n",
       "         0.        ,  0.00622652],\n",
       "       [ 0.        ,  0.26082736,  0.16529593,  0.        ,  0.        ,\n",
       "         0.        ,  0.        ],\n",
       "       [ 0.        ,  1.14814416,  0.        ,  0.        ,  0.        ,\n",
       "        -0.78268207,  0.        ],\n",
       "       [ 0.        ,  0.        ,  0.4808402 ,  0.        , -1.20684716,\n",
       "         0.        ,  0.        ],\n",
       "       [ 0.        ,  0.        ,  0.        ,  0.        ,  1.18657648,\n",
       "         0.        , -0.66915299],\n",
       "       [ 0.        ,  0.        ,  0.        ,  0.        ,  0.        ,\n",
       "        -0.11593893, -0.15269737]])"
      ]
     },
     "execution_count": 57,
     "metadata": {},
     "output_type": "execute_result"
    }
   ],
   "source": [
    "B_hat"
   ]
  },
  {
   "cell_type": "code",
   "execution_count": 58,
   "metadata": {},
   "outputs": [],
   "source": [
    "L_hat = B_hat.T @ B_hat"
   ]
  },
  {
   "cell_type": "code",
   "execution_count": 59,
   "metadata": {},
   "outputs": [
    {
     "data": {
      "text/plain": [
       "8.159460006194776"
      ]
     },
     "execution_count": 59,
     "metadata": {},
     "output_type": "execute_result"
    }
   ],
   "source": [
    "x0.T @ L_f @ x0"
   ]
  },
  {
   "cell_type": "code",
   "execution_count": 60,
   "metadata": {},
   "outputs": [
    {
     "data": {
      "text/plain": [
       "3.1733281833367676e-08"
      ]
     },
     "execution_count": 60,
     "metadata": {},
     "output_type": "execute_result"
    }
   ],
   "source": [
    "x0.T @ L_hat @ x0"
   ]
  },
  {
   "cell_type": "code",
   "execution_count": 65,
   "metadata": {},
   "outputs": [
    {
     "data": {
      "image/png": "[encoded data removed]",
      "text/plain": [
       "<Figure size 640x480 with 1 Axes>"
      ]
     },
     "metadata": {},
     "output_type": "display_data"
    }
   ],
   "source": [
    "plt.plot(disagreement)\n",
    "plt.yscale('log')"
   ]
  },
  {
   "cell_type": "code",
   "execution_count": null,
   "metadata": {},
   "outputs": [],
   "source": []
  }
 ],
 "metadata": {
  "kernelspec": {
   "display_name": "Python 3",
   "language": "python",
   "name": "python3"
  },
  "language_info": {
   "codemirror_mode": {
    "name": "ipython",
    "version": 3
   },
   "file_extension": ".py",
   "mimetype": "text/x-python",
   "name": "python",
   "nbconvert_exporter": "python",
   "pygments_lexer": "ipython3",
   "version": "3.10.7"
  }
 },
 "nbformat": 4,
 "nbformat_minor": 2
}

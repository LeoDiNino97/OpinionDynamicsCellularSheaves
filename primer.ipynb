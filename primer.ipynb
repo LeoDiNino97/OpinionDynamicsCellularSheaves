{
 "cells": [
  {
   "cell_type": "markdown",
   "metadata": {},
   "source": [
    "# Opinion dynamics over discourse sheaves"
   ]
  },
  {
   "cell_type": "code",
   "execution_count": 1,
   "metadata": {},
   "outputs": [],
   "source": [
    "import numpy as np\n",
    "import networkx as nx\n",
    "import matplotlib.pyplot as plt\n",
    "from scipy.integrate import solve_ivp"
   ]
  },
  {
   "cell_type": "markdown",
   "metadata": {},
   "source": [
    "## Constant sheaves with stalk equal to $\\mathbb{R}$ on each vertex and node"
   ]
  },
  {
   "cell_type": "markdown",
   "metadata": {},
   "source": [
    "### Expression diffusion for \"learning to lie\" dynamics"
   ]
  },
  {
   "cell_type": "code",
   "execution_count": 3,
   "metadata": {},
   "outputs": [],
   "source": [
    "# Let's generate a toy topology for our example\n",
    "\n",
    "nodes = [i for i in range(7)]\n",
    "edges = [\n",
    "    (0,1),\n",
    "    (0,3),\n",
    "    (0,6),\n",
    "    (1,2),\n",
    "    (1,5),\n",
    "    (2,4),\n",
    "    (4,6),\n",
    "    (5,6)\n",
    "]\n",
    "\n",
    "V = 7\n",
    "E = len(edges)\n",
    "\n",
    "d = 1                                           # Node and edges stalks dimension\n",
    "\n",
    "F = {\n",
    "    e:{\n",
    "        e[0]:np.random.randn(d,d),\n",
    "        e[1]:np.random.randn(d,d)\n",
    "        } \n",
    "        for e in edges\n",
    "    }                                           # Incidency linear maps\n",
    "\n",
    "# Sheaf representation \n",
    "\n",
    "# Coboundary map\n",
    "\n",
    "B = np.zeros((d*E, d*V))\n",
    "\n",
    "for i in range(len(edges)):\n",
    "    edge = edges[i]\n",
    "\n",
    "    u = edge[0] \n",
    "    v = edge[1] \n",
    "\n",
    "    B_u = F[edge][u]\n",
    "    B_v = F[edge][v]\n",
    "\n",
    "    B[i*d:(i+1)*d, u*d:(u+1)*d] = 1\n",
    "    B[i*d:(i+1)*d, v*d:(v+1)*d] = - 1\n",
    "\n",
    "# Sheaf Laplacian\n",
    "\n",
    "L_f = B.T @ B"
   ]
  },
  {
   "cell_type": "code",
   "execution_count": 4,
   "metadata": {},
   "outputs": [
    {
     "data": {
      "text/plain": [
       "array([[ 1., -1.,  0.,  0.,  0.,  0.,  0.],\n",
       "       [ 1.,  0.,  0., -1.,  0.,  0.,  0.],\n",
       "       [ 1.,  0.,  0.,  0.,  0.,  0., -1.],\n",
       "       [ 0.,  1., -1.,  0.,  0.,  0.,  0.],\n",
       "       [ 0.,  1.,  0.,  0.,  0., -1.,  0.],\n",
       "       [ 0.,  0.,  1.,  0., -1.,  0.,  0.],\n",
       "       [ 0.,  0.,  0.,  0.,  1.,  0., -1.],\n",
       "       [ 0.,  0.,  0.,  0.,  0.,  1., -1.]])"
      ]
     },
     "execution_count": 4,
     "metadata": {},
     "output_type": "execute_result"
    }
   ],
   "source": [
    "B"
   ]
  },
  {
   "cell_type": "code",
   "execution_count": 18,
   "metadata": {},
   "outputs": [],
   "source": [
    "def expressionDynamic(\n",
    "        t, \n",
    "        B_flatten, \n",
    "        P,\n",
    "        E,\n",
    "        V, \n",
    "        d, \n",
    "        beta, \n",
    "        x0\n",
    "        ):\n",
    "    \n",
    "    B = B_flatten.reshape(E*d,V*d)\n",
    "    dt_dB = (- beta * P * (B @ np.outer(x0, x0)))\n",
    "    return dt_dB.flatten()\n",
    "\n",
    "def expressionDynamicSolver(\n",
    "        B0, \n",
    "        x0, \n",
    "        E,\n",
    "        V,\n",
    "        d,\n",
    "        beta = 1,\n",
    "        T = 100,\n",
    "        time_span = 100\n",
    "        ):\n",
    "\n",
    "    time_points = np.linspace(0, T, time_span)\n",
    "    P = (B0 != 0).astype('int32')\n",
    "\n",
    "    solution = solve_ivp(\n",
    "        expressionDynamic, \n",
    "        [0, 100], \n",
    "        B0.flatten(), \n",
    "        t_eval=time_points, \n",
    "        args=(P, E, V, d, beta, x0,),\n",
    "        method='RK45'\n",
    "        )\n",
    "    \n",
    "    return solution.y[:,-1].reshape(E*d, V*d)"
   ]
  },
  {
   "cell_type": "code",
   "execution_count": 19,
   "metadata": {},
   "outputs": [],
   "source": [
    "B0 = np.copy(B)\n",
    "x0 = np.random.randn(V)\n",
    "\n",
    "B_hat = expressionDynamicSolver(B0, x0, E, V, d)"
   ]
  },
  {
   "cell_type": "code",
   "execution_count": 20,
   "metadata": {},
   "outputs": [
    {
     "data": {
      "text/plain": [
       "array([[ 0.81303881,  0.13403998,  0.        ,  0.        ,  0.        ,\n",
       "         0.        ,  0.        ],\n",
       "       [-0.00414487,  0.        ,  0.        , -0.00417993,  0.        ,\n",
       "         0.        ,  0.        ],\n",
       "       [ 0.09267787,  0.        ,  0.        ,  0.        ,  0.        ,\n",
       "         0.        , -1.07771505],\n",
       "       [ 0.        ,  0.32806281, -1.18588454,  0.        ,  0.        ,\n",
       "         0.        ,  0.        ],\n",
       "       [ 0.        ,  0.56398433,  0.        ,  0.        ,  0.        ,\n",
       "        -1.20386829,  0.        ],\n",
       "       [ 0.        ,  0.        ,  0.02515894,  0.        , -1.02395226,\n",
       "         0.        ,  0.        ],\n",
       "       [ 0.        ,  0.        ,  0.        ,  0.        ,  0.96079301,\n",
       "         0.        , -0.91854778],\n",
       "       [ 0.        ,  0.        ,  0.        ,  0.        ,  0.        ,\n",
       "        -0.02926207, -0.96891541]])"
      ]
     },
     "execution_count": 20,
     "metadata": {},
     "output_type": "execute_result"
    }
   ],
   "source": [
    "B_hat"
   ]
  },
  {
   "cell_type": "code",
   "execution_count": 21,
   "metadata": {},
   "outputs": [],
   "source": [
    "L_hat = B_hat.T @ B_hat"
   ]
  },
  {
   "cell_type": "code",
   "execution_count": 22,
   "metadata": {},
   "outputs": [
    {
     "data": {
      "text/plain": [
       "7.4222220020796"
      ]
     },
     "execution_count": 22,
     "metadata": {},
     "output_type": "execute_result"
    }
   ],
   "source": [
    "x0.T @ L_f @ x0"
   ]
  },
  {
   "cell_type": "code",
   "execution_count": 23,
   "metadata": {},
   "outputs": [
    {
     "data": {
      "text/plain": [
       "0.0010892996321604416"
      ]
     },
     "execution_count": 23,
     "metadata": {},
     "output_type": "execute_result"
    }
   ],
   "source": [
    "x0.T @ L_hat @ x0"
   ]
  }
 ],
 "metadata": {
  "kernelspec": {
   "display_name": "Python 3",
   "language": "python",
   "name": "python3"
  },
  "language_info": {
   "codemirror_mode": {
    "name": "ipython",
    "version": 3
   },
   "file_extension": ".py",
   "mimetype": "text/x-python",
   "name": "python",
   "nbconvert_exporter": "python",
   "pygments_lexer": "ipython3",
   "version": "3.10.7"
  }
 },
 "nbformat": 4,
 "nbformat_minor": 2
}
